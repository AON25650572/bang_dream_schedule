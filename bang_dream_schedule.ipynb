{
 "cells": [
  {
   "cell_type": "markdown",
   "metadata": {},
   "source": [
    "# bang_dream_schedule"
   ]
  },
  {
   "cell_type": "markdown",
   "metadata": {},
   "source": [
    "バンドリの公式が発表するカレンダーをGoogleカレンダーがインポートできる形で吐いてやる"
   ]
  },
  {
   "cell_type": "markdown",
   "metadata": {},
   "source": [
    "## 0. 下処理的な話"
   ]
  },
  {
   "cell_type": "markdown",
   "metadata": {},
   "source": [
    "カレンダーのURLは「https\\://bang-dream.com/news/schedule?ym=**YYYYMM**」"
   ]
  },
  {
   "cell_type": "markdown",
   "metadata": {},
   "source": [
    "例えば、https://bang-dream.com/news/schedule?ym=202102 みたいな感じ"
   ]
  },
  {
   "cell_type": "markdown",
   "metadata": {},
   "source": [
    "よって実行時には入力として年と月の情報がいる。めんどくさい運用をしない場合は「\\_\\_name\\_\\_ == '\\_\\_main\\_\\_'」で現在の時間情報をぶち込む仕組みにしておく"
   ]
  },
  {
   "cell_type": "markdown",
   "metadata": {},
   "source": [
    "あとは、1ケタの整数をぶち込んだら2ケタの整数の文字列になって帰ってくる関数とかを用意してあげる"
   ]
  },
  {
   "cell_type": "code",
   "execution_count": 12,
   "metadata": {},
   "outputs": [],
   "source": [
    "def niketa(num):\n",
    "    \"\"\"\n",
    "    入力（int）を2ケタにする\n",
    "    出力はstr\n",
    "    \"\"\"\n",
    "    if 0 <= num < 10 and type(num) == int:\n",
    "        return \"0\" + str(num)\n",
    "    elif num < 100:\n",
    "        return str(num)\n",
    "    else:\n",
    "        return None"
   ]
  },
  {
   "cell_type": "code",
   "execution_count": 13,
   "metadata": {},
   "outputs": [],
   "source": [
    "import datetime\n",
    "\n",
    "if __name__ == '__main__':\n",
    "    now = datetime.datetime.now()\n",
    "    year = now.year\n",
    "    month = now.month\n",
    "    url = \"https://bang-dream.com/news/schedule?ym=\"\n",
    "\n",
    "    url += str(year) + niketa(month)\n",
    "    \n",
    "    # 後の処理"
   ]
  },
  {
   "cell_type": "markdown",
   "metadata": {},
   "source": [
    "## 1. beautifulsoupなるもの"
   ]
  },
  {
   "cell_type": "markdown",
   "metadata": {},
   "source": [
    "pythonのスクレイピングの世界にはbeautifulsoupなるものが存在して、楽に情報を抜き出すことができるらしい。知らんけど。"
   ]
  },
  {
   "cell_type": "markdown",
   "metadata": {},
   "source": [
    "ここら辺のQiitaを参考にした。<br>\n",
    "https://qiita.com/itkr/items/513318a9b5b92bd56185"
   ]
  },
  {
   "cell_type": "code",
   "execution_count": 3,
   "metadata": {},
   "outputs": [
    {
     "name": "stdout",
     "output_type": "stream",
     "text": [
      "Requirement already satisfied: requests in /home/naoaki/anaconda3/lib/python3.8/site-packages (2.24.0)\n",
      "Requirement already satisfied: urllib3!=1.25.0,!=1.25.1,<1.26,>=1.21.1 in /home/naoaki/anaconda3/lib/python3.8/site-packages (from requests) (1.25.11)\n",
      "Requirement already satisfied: certifi>=2017.4.17 in /home/naoaki/anaconda3/lib/python3.8/site-packages (from requests) (2020.6.20)\n",
      "Requirement already satisfied: chardet<4,>=3.0.2 in /home/naoaki/anaconda3/lib/python3.8/site-packages (from requests) (3.0.4)\n",
      "Requirement already satisfied: idna<3,>=2.5 in /home/naoaki/anaconda3/lib/python3.8/site-packages (from requests) (2.10)\n",
      "Requirement already satisfied: beautifulsoup4 in /home/naoaki/anaconda3/lib/python3.8/site-packages (4.9.3)\n",
      "Requirement already satisfied: soupsieve>1.2; python_version >= \"3.0\" in /home/naoaki/anaconda3/lib/python3.8/site-packages (from beautifulsoup4) (2.0.1)\n"
     ]
    }
   ],
   "source": [
    "# requestsとbeautifulsoup4のインストール\n",
    "!pip install requests\n",
    "!pip install beautifulsoup4"
   ]
  },
  {
   "cell_type": "code",
   "execution_count": 17,
   "metadata": {},
   "outputs": [],
   "source": [
    "import requests\n",
    "from bs4 import BeautifulSoup"
   ]
  },
  {
   "cell_type": "markdown",
   "metadata": {},
   "source": [
    "あとは、よしなに"
   ]
  },
  {
   "cell_type": "code",
   "execution_count": 21,
   "metadata": {},
   "outputs": [],
   "source": [
    "def schedule_information_extraction(url=url):\n",
    "    \"\"\"\n",
    "    今月の予定情報（bs4.element.Tag）が入ったlistを返す\n",
    "    \"\"\"\n",
    "    # Requestsを利用してWebページを取得する\n",
    "    r = requests.get(url)\n",
    "\n",
    "    # BeautifulSoupを利用してWebページを解析する\n",
    "    soup = BeautifulSoup(r.text, \"html.parser\")\n",
    "\n",
    "    # calendarCellでイベント情報をごっそりとってくる\n",
    "    calendarCell = soup.find_all(class_=\"calendarCell\")\n",
    "\n",
    "    # calendarCell notCurrentで先月来月の情報をとってくる\n",
    "    calendarCell_notCurrent = soup.find_all(class_=\"calendarCell notCurrent\")\n",
    "\n",
    "    # 先月来月の情報はひとまずいらないので削除\n",
    "    remake = [info for info in calendarCell if info not in calendarCell_notCurrent]\n",
    "\n",
    "    return remake"
   ]
  },
  {
   "cell_type": "code",
   "execution_count": 24,
   "metadata": {},
   "outputs": [],
   "source": [
    "def schedule_extraction(informations):\n",
    "    \"\"\"\n",
    "    今月の予定情報（bs4.element.Tag）が入ったlistをぶち込むと\n",
    "    \n",
    "    {2（'date'）: {'date': 2,\n",
    "        'yobi': '土曜日',\n",
    "        'yotei': [{'text': '🎍《22:00》朝までバンドリ！TV 2021', 'url_link': 'https://bang-dream.com/news/1095'},\n",
    "                {'text': '📻【第14回】Afterglowの夕焼けSTUDIO＋', 'url_link': 'https://hibiki-radio.jp/description/Afterglowplus/detail'}]},\n",
    "    }\n",
    "    \n",
    "    みたいな感じの形式で返してくれる\n",
    "    \"\"\"\n",
    "    calendar_yotei = {}\n",
    "\n",
    "    for info in informations:\n",
    "        # 日付と曜日情報\n",
    "        day = info.find(class_=\"calendarCellDate\").get_text()\n",
    "        date = int(day[:-3])\n",
    "        yobi = day[-3:]\n",
    "\n",
    "        # 予定情報\n",
    "        yotei = []\n",
    "        for link in info.find(class_=\"calendarCellContent\").find_all(\"a\"):\n",
    "            text,url_link = link.get_text(),link.get(\"href\")\n",
    "            yotei.append({\"text\":text, \"url_link\":url_link})\n",
    "\n",
    "        calendar_yotei[date] = {\"date\":date, \"yobi\":yobi, \"yotei\":yotei}\n",
    "\n",
    "    return calendar_yotei"
   ]
  },
  {
   "cell_type": "markdown",
   "metadata": {},
   "source": [
    "これを良い感じにGoogleカレンダーの入力形式にぶち込む"
   ]
  },
  {
   "cell_type": "markdown",
   "metadata": {},
   "source": [
    "https://support.google.com/a/users/answer/37118?hl=ja&co=GENIE.Platform%3DDesktop#zippy=%2Ccsv-%E3%83%95%E3%82%A1%E3%82%A4%E3%83%AB%E3%81%AE%E4%BD%9C%E6%88%90%E3%81%A8%E7%B7%A8%E9%9B%86"
   ]
  },
  {
   "cell_type": "markdown",
   "metadata": {},
   "source": [
    "- **`Subject`**\n",
    "  予定の名前（必須）。\n",
    "  例: **`期末試験`**\n",
    "- **`Start Date`**\n",
    "  予定の開始日（必須）。\n",
    "  例: **`05/30/2020`**\n",
    "- **`Start Time`**\n",
    "  予定の開始時刻。\n",
    "  例: **`10:00 AM`**\n",
    "- **`End Date`**\n",
    "  予定の終了日。\n",
    "  例: `05/30/2020`\n",
    "- **`End Time`**\n",
    "  予定の終了時刻。\n",
    "  例: **`1:00 PM`**\n",
    "- **`All Day Event`**\n",
    "  終日の予定であるかどうかを指定します。終日の予定の場合は **`True`**、そうでない場合は **`False`** と入力します。\n",
    "  例: **`False`**\n",
    "- **`Description`**\n",
    "  予定の説明やメモ。\n",
    "  例: `**選択式問題 50 問と論文 2,000 字** `\n",
    "- **`Location`**\n",
    "  予定の場所。\n",
    "  例: **`\"614 教室\"`**\n",
    "- **`Private`**\n",
    "  予定を限定公開にするかどうかを指定します。予定が限定公開の場合は **`True`**、そうでない場合は **`False`** と入力します。\n",
    "  例: **`True`**"
   ]
  },
  {
   "cell_type": "markdown",
   "metadata": {},
   "source": [
    "今回は**`Subject`**と**`Start Date`**と**`Description`**と**`Private`**を使用"
   ]
  },
  {
   "cell_type": "code",
   "execution_count": 31,
   "metadata": {},
   "outputs": [],
   "source": [
    "# Googleカレンダーにインポートする用のファイルを作成\n",
    "def make_import_file(calendar_yotei,year=year,month=month,private=\"False\"):\n",
    "    header = \"Subject,Start Date,Description,Private\\n\"\n",
    "\n",
    "    with open(\"bang_dream_schedule_\"+str(year)+niketa(month)+\".csv\",\"w\",encoding=\"utf8\") as f:\n",
    "        f.write(header)\n",
    "\n",
    "        for info in calendar_yotei.values():\n",
    "            # 予定が無かったらcontinue\n",
    "            if len(info[\"yotei\"]) == 0:\n",
    "                continue\n",
    "\n",
    "            # 日付合成（DD/MM/YYYY）\n",
    "            Start_Date = niketa(info[\"date\"]) + \"/\" + niketa(month) + \"/\" + str(year)\n",
    "\n",
    "            for subject in info[\"yotei\"]:\n",
    "                f.write(subject[\"text\"] + \",\" + Start_Date + \",\" + subject[\"url_link\"]+\",\" + private + \"\\n\") # 限定公開にすると共有したときに内容が見れない"
   ]
  },
  {
   "cell_type": "markdown",
   "metadata": {},
   "source": [
    "これで直下フォルダに「bang_dream_schedule_YYYYMM.csv」ができているはず"
   ]
  },
  {
   "cell_type": "markdown",
   "metadata": {},
   "source": [
    "Googleカレンダーにぶち込む方法はググって"
   ]
  }
 ],
 "metadata": {
  "kernelspec": {
   "display_name": "Python 3",
   "language": "python",
   "name": "python3"
  },
  "language_info": {
   "codemirror_mode": {
    "name": "ipython",
    "version": 3
   },
   "file_extension": ".py",
   "mimetype": "text/x-python",
   "name": "python",
   "nbconvert_exporter": "python",
   "pygments_lexer": "ipython3",
   "version": "3.8.5"
  }
 },
 "nbformat": 4,
 "nbformat_minor": 4
}
